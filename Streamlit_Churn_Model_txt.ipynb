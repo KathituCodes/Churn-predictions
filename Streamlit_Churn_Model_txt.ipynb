{
  "cells": [
    {
      "cell_type": "markdown",
      "metadata": {
        "id": "view-in-github",
        "colab_type": "text"
      },
      "source": [
        "<a href=\"https://colab.research.google.com/github/KathituCodes/Churn-predictions/blob/main/Streamlit_Churn_Model_txt.ipynb\" target=\"_parent\"><img src=\"https://colab.research.google.com/assets/colab-badge.svg\" alt=\"Open In Colab\"/></a>"
      ]
    },
    {
      "cell_type": "code",
      "metadata": {
        "colab": {
          "base_uri": "https://localhost:8080/"
        },
        "id": "_UWH38Jz0qbR",
        "outputId": "e6a865eb-2fb9-4581-8eba-758c501786d1"
      },
      "source": [
        "# Install required packages\n",
        "!pip install streamlit pandas numpy scikit-learn"
      ],
      "execution_count": 1,
      "outputs": [
        {
          "output_type": "stream",
          "name": "stdout",
          "text": [
            "Collecting streamlit\n",
            "  Downloading streamlit-1.46.0-py3-none-any.whl.metadata (9.0 kB)\n",
            "Requirement already satisfied: pandas in /usr/local/lib/python3.11/dist-packages (2.2.2)\n",
            "Requirement already satisfied: numpy in /usr/local/lib/python3.11/dist-packages (2.0.2)\n",
            "Requirement already satisfied: scikit-learn in /usr/local/lib/python3.11/dist-packages (1.6.1)\n",
            "Requirement already satisfied: altair<6,>=4.0 in /usr/local/lib/python3.11/dist-packages (from streamlit) (5.5.0)\n",
            "Requirement already satisfied: blinker<2,>=1.5.0 in /usr/local/lib/python3.11/dist-packages (from streamlit) (1.9.0)\n",
            "Requirement already satisfied: cachetools<7,>=4.0 in /usr/local/lib/python3.11/dist-packages (from streamlit) (5.5.2)\n",
            "Requirement already satisfied: click<9,>=7.0 in /usr/local/lib/python3.11/dist-packages (from streamlit) (8.2.1)\n",
            "Requirement already satisfied: packaging<26,>=20 in /usr/local/lib/python3.11/dist-packages (from streamlit) (24.2)\n",
            "Requirement already satisfied: pillow<12,>=7.1.0 in /usr/local/lib/python3.11/dist-packages (from streamlit) (11.2.1)\n",
            "Requirement already satisfied: protobuf<7,>=3.20 in /usr/local/lib/python3.11/dist-packages (from streamlit) (5.29.5)\n",
            "Requirement already satisfied: pyarrow>=7.0 in /usr/local/lib/python3.11/dist-packages (from streamlit) (18.1.0)\n",
            "Requirement already satisfied: requests<3,>=2.27 in /usr/local/lib/python3.11/dist-packages (from streamlit) (2.32.3)\n",
            "Requirement already satisfied: tenacity<10,>=8.1.0 in /usr/local/lib/python3.11/dist-packages (from streamlit) (9.1.2)\n",
            "Requirement already satisfied: toml<2,>=0.10.1 in /usr/local/lib/python3.11/dist-packages (from streamlit) (0.10.2)\n",
            "Requirement already satisfied: typing-extensions<5,>=4.4.0 in /usr/local/lib/python3.11/dist-packages (from streamlit) (4.14.0)\n",
            "Collecting watchdog<7,>=2.1.5 (from streamlit)\n",
            "  Downloading watchdog-6.0.0-py3-none-manylinux2014_x86_64.whl.metadata (44 kB)\n",
            "\u001b[2K     \u001b[90m━━━━━━━━━━━━━━━━━━━━━━━━━━━━━━━━━━━━━━━━\u001b[0m \u001b[32m44.3/44.3 kB\u001b[0m \u001b[31m1.7 MB/s\u001b[0m eta \u001b[36m0:00:00\u001b[0m\n",
            "\u001b[?25hRequirement already satisfied: gitpython!=3.1.19,<4,>=3.0.7 in /usr/local/lib/python3.11/dist-packages (from streamlit) (3.1.44)\n",
            "Collecting pydeck<1,>=0.8.0b4 (from streamlit)\n",
            "  Downloading pydeck-0.9.1-py2.py3-none-any.whl.metadata (4.1 kB)\n",
            "Requirement already satisfied: tornado!=6.5.0,<7,>=6.0.3 in /usr/local/lib/python3.11/dist-packages (from streamlit) (6.4.2)\n",
            "Requirement already satisfied: python-dateutil>=2.8.2 in /usr/local/lib/python3.11/dist-packages (from pandas) (2.9.0.post0)\n",
            "Requirement already satisfied: pytz>=2020.1 in /usr/local/lib/python3.11/dist-packages (from pandas) (2025.2)\n",
            "Requirement already satisfied: tzdata>=2022.7 in /usr/local/lib/python3.11/dist-packages (from pandas) (2025.2)\n",
            "Requirement already satisfied: scipy>=1.6.0 in /usr/local/lib/python3.11/dist-packages (from scikit-learn) (1.15.3)\n",
            "Requirement already satisfied: joblib>=1.2.0 in /usr/local/lib/python3.11/dist-packages (from scikit-learn) (1.5.1)\n",
            "Requirement already satisfied: threadpoolctl>=3.1.0 in /usr/local/lib/python3.11/dist-packages (from scikit-learn) (3.6.0)\n",
            "Requirement already satisfied: jinja2 in /usr/local/lib/python3.11/dist-packages (from altair<6,>=4.0->streamlit) (3.1.6)\n",
            "Requirement already satisfied: jsonschema>=3.0 in /usr/local/lib/python3.11/dist-packages (from altair<6,>=4.0->streamlit) (4.24.0)\n",
            "Requirement already satisfied: narwhals>=1.14.2 in /usr/local/lib/python3.11/dist-packages (from altair<6,>=4.0->streamlit) (1.43.0)\n",
            "Requirement already satisfied: gitdb<5,>=4.0.1 in /usr/local/lib/python3.11/dist-packages (from gitpython!=3.1.19,<4,>=3.0.7->streamlit) (4.0.12)\n",
            "Requirement already satisfied: six>=1.5 in /usr/local/lib/python3.11/dist-packages (from python-dateutil>=2.8.2->pandas) (1.17.0)\n",
            "Requirement already satisfied: charset-normalizer<4,>=2 in /usr/local/lib/python3.11/dist-packages (from requests<3,>=2.27->streamlit) (3.4.2)\n",
            "Requirement already satisfied: idna<4,>=2.5 in /usr/local/lib/python3.11/dist-packages (from requests<3,>=2.27->streamlit) (3.10)\n",
            "Requirement already satisfied: urllib3<3,>=1.21.1 in /usr/local/lib/python3.11/dist-packages (from requests<3,>=2.27->streamlit) (2.4.0)\n",
            "Requirement already satisfied: certifi>=2017.4.17 in /usr/local/lib/python3.11/dist-packages (from requests<3,>=2.27->streamlit) (2025.6.15)\n",
            "Requirement already satisfied: smmap<6,>=3.0.1 in /usr/local/lib/python3.11/dist-packages (from gitdb<5,>=4.0.1->gitpython!=3.1.19,<4,>=3.0.7->streamlit) (5.0.2)\n",
            "Requirement already satisfied: MarkupSafe>=2.0 in /usr/local/lib/python3.11/dist-packages (from jinja2->altair<6,>=4.0->streamlit) (3.0.2)\n",
            "Requirement already satisfied: attrs>=22.2.0 in /usr/local/lib/python3.11/dist-packages (from jsonschema>=3.0->altair<6,>=4.0->streamlit) (25.3.0)\n",
            "Requirement already satisfied: jsonschema-specifications>=2023.03.6 in /usr/local/lib/python3.11/dist-packages (from jsonschema>=3.0->altair<6,>=4.0->streamlit) (2025.4.1)\n",
            "Requirement already satisfied: referencing>=0.28.4 in /usr/local/lib/python3.11/dist-packages (from jsonschema>=3.0->altair<6,>=4.0->streamlit) (0.36.2)\n",
            "Requirement already satisfied: rpds-py>=0.7.1 in /usr/local/lib/python3.11/dist-packages (from jsonschema>=3.0->altair<6,>=4.0->streamlit) (0.25.1)\n",
            "Downloading streamlit-1.46.0-py3-none-any.whl (10.1 MB)\n",
            "\u001b[2K   \u001b[90m━━━━━━━━━━━━━━━━━━━━━━━━━━━━━━━━━━━━━━━━\u001b[0m \u001b[32m10.1/10.1 MB\u001b[0m \u001b[31m66.5 MB/s\u001b[0m eta \u001b[36m0:00:00\u001b[0m\n",
            "\u001b[?25hDownloading pydeck-0.9.1-py2.py3-none-any.whl (6.9 MB)\n",
            "\u001b[2K   \u001b[90m━━━━━━━━━━━━━━━━━━━━━━━━━━━━━━━━━━━━━━━━\u001b[0m \u001b[32m6.9/6.9 MB\u001b[0m \u001b[31m117.2 MB/s\u001b[0m eta \u001b[36m0:00:00\u001b[0m\n",
            "\u001b[?25hDownloading watchdog-6.0.0-py3-none-manylinux2014_x86_64.whl (79 kB)\n",
            "\u001b[2K   \u001b[90m━━━━━━━━━━━━━━━━━━━━━━━━━━━━━━━━━━━━━━━━\u001b[0m \u001b[32m79.1/79.1 kB\u001b[0m \u001b[31m6.4 MB/s\u001b[0m eta \u001b[36m0:00:00\u001b[0m\n",
            "\u001b[?25hInstalling collected packages: watchdog, pydeck, streamlit\n",
            "Successfully installed pydeck-0.9.1 streamlit-1.46.0 watchdog-6.0.0\n"
          ]
        }
      ]
    },
    {
      "cell_type": "code",
      "metadata": {
        "colab": {
          "base_uri": "https://localhost:8080/"
        },
        "id": "Hci_8Ikn0qbU",
        "outputId": "79cf5e95-8db0-4e35-d883-377e0b646c4c"
      },
      "source": [
        "%%writefile app.py\n",
        "import streamlit as st\n",
        "import pandas as pd\n",
        "import pickle\n",
        "import numpy as np\n",
        "from sklearn.linear_model import LogisticRegression\n",
        "\n",
        "# Load the trained model, scaler, and encoder\n",
        "try:\n",
        "    with open('logistic_regression_model.pkl', 'rb') as file:\n",
        "        model = pickle.load(file)\n",
        "    with open('scaler.pkl', 'rb') as file:\n",
        "        scaler = pickle.load(file)\n",
        "    with open('label_encoder.pkl', 'rb') as file:\n",
        "        encoder_dict = pickle.load(file)\n",
        "except FileNotFoundError:\n",
        "    st.error(\"Model, scaler, or encoder files not found. Ensure all .pkl files exist.\")\n",
        "    st.stop()\n",
        "\n",
        "st.title('Telecom Customer Churn Prediction')\n",
        "st.write('Enter customer information to predict churn:')\n",
        "\n",
        "# Input fields\n",
        "region_options = list(encoder_dict['REGION'].classes_)\n",
        "REGION = st.selectbox('Region', region_options)\n",
        "region_encoded = encoder_dict['REGION'].transform([REGION])[0]\n",
        "\n",
        "tenure_options = list(encoder_dict['TENURE'].classes_)\n",
        "TENURE = st.selectbox('Tenure', tenure_options)\n",
        "tenure_encoded = encoder_dict['TENURE'].transform([TENURE])[0]\n",
        "\n",
        "montant = st.number_input('Montant', min_value=0.0)\n",
        "frequence_rech = st.number_input('Frequence Rech', min_value=0.0)\n",
        "revenue = st.number_input('Revenue', min_value=0.0)\n",
        "arpu_segment = st.number_input('ARPU Segment', min_value=0.0)\n",
        "frequence = st.number_input('Frequence', min_value=0.0)\n",
        "data_volume = st.number_input('Data Volume', min_value=0.0)\n",
        "on_net = st.number_input('On Net', min_value=0.0)\n",
        "regularity = st.number_input('Regularity', min_value=1.0, max_value=62.0)\n",
        "freq_top_pack = st.number_input('Freq Top Pack', min_value=0.0)\n",
        "\n",
        "# Prediction button\n",
        "if st.button('Predict Churn'):\n",
        "    features = np.array([region_encoded, tenure_encoded, montant, frequence_rech, revenue, arpu_segment,\n",
        "                         frequence, data_volume, on_net, regularity, freq_top_pack]).reshape(1, -1)\n",
        "    try:\n",
        "        scaled_features = scaler.transform(features)\n",
        "        prediction = model.predict(scaled_features)[0]\n",
        "        proba = model.predict_proba(scaled_features)[0][1]\n",
        "        st.write(f'Prediction: Customer is {\"likely to churn\" if prediction == 1 else \"likely to stay\"}.')\n",
        "        st.write(f'Probability of Churning: {proba:.2%}')\n",
        "    except Exception as e:\n",
        "        st.error(f\"Prediction error: {e}\")\n",
        "\n",
        "# Sidebar info\n",
        "st.sidebar.header('About this model')\n",
        "st.sidebar.write('''\n",
        "This model predicts customer churn based on:\n",
        "- Region\n",
        "- Tenure\n",
        "- Montant\n",
        "- Frequence_rech\n",
        "- Revenue\n",
        "- ARPU_segment\n",
        "- Frequence\n",
        "- Data_volume\n",
        "- On_net\n",
        "- Regularity\n",
        "- Freq_top_pack\n",
        "Uses Logistic Regression trained on customer churn data.\n",
        "''')\n",
        "\n",
        "# Footer\n",
        "st.markdown('Created for Expresso Telecommunications Company')"
      ],
      "execution_count": 2,
      "outputs": [
        {
          "output_type": "stream",
          "name": "stdout",
          "text": [
            "Writing app.py\n"
          ]
        }
      ]
    },
    {
      "cell_type": "code",
      "metadata": {
        "colab": {
          "base_uri": "https://localhost:8080/"
        },
        "id": "Qls9jbln0qbW",
        "outputId": "2947d719-b52f-4b52-cb05-d45c59062b06"
      },
      "source": [
        "%%writefile requirements.txt\n",
        "streamlit==1.39.0\n",
        "pandas==2.2.2\n",
        "numpy==1.26.4\n",
        "scikit-learn==1.5.2"
      ],
      "execution_count": 3,
      "outputs": [
        {
          "output_type": "stream",
          "name": "stdout",
          "text": [
            "Writing requirements.txt\n"
          ]
        }
      ]
    },
    {
      "cell_type": "code",
      "metadata": {
        "colab": {
          "base_uri": "https://localhost:8080/"
        },
        "id": "7WYXROAN0qbX",
        "outputId": "cbed3f4f-75fc-4a5a-a4b9-3783b6a76d62"
      },
      "source": [
        "# Instructions for deployment\n",
        "print('''\n",
        "To deploy the Streamlit app:\n",
        "1. Ensure logistic_regression_model.pkl, scaler.pkl, and label_encoder.pkl are in the same directory as app.py.\n",
        "2. Run locally using: streamlit run app.py\n",
        "3. For Streamlit Cloud:\n",
        "   - Push app.py, requirements.txt, and .pkl files to a GitHub repository.\n",
        "   - Connect the repository to Streamlit Cloud and deploy.\n",
        "4. Verify the model expects 11 features: region_encoded, tenure_encoded, montant, frequence_rech, revenue, arpu_segment, frequence, data_volume, on_net, regularity, freq_top_pack.\n",
        "''')"
      ],
      "execution_count": 4,
      "outputs": [
        {
          "output_type": "stream",
          "name": "stdout",
          "text": [
            "\n",
            "To deploy the Streamlit app:\n",
            "1. Ensure logistic_regression_model.pkl, scaler.pkl, and label_encoder.pkl are in the same directory as app.py.\n",
            "2. Run locally using: streamlit run app.py\n",
            "3. For Streamlit Cloud:\n",
            "   - Push app.py, requirements.txt, and .pkl files to a GitHub repository.\n",
            "   - Connect the repository to Streamlit Cloud and deploy.\n",
            "4. Verify the model expects 11 features: region_encoded, tenure_encoded, montant, frequence_rech, revenue, arpu_segment, frequence, data_volume, on_net, regularity, freq_top_pack.\n",
            "\n"
          ]
        }
      ]
    }
  ],
  "metadata": {
    "kernelspec": {
      "display_name": "Python 3",
      "name": "python3"
    },
    "language_info": {
      "name": "python"
    },
    "colab": {
      "provenance": [],
      "include_colab_link": true
    }
  },
  "nbformat": 4,
  "nbformat_minor": 0
}